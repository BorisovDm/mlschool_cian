{
 "cells": [
  {
   "cell_type": "markdown",
   "metadata": {},
   "source": [
    "## Import libraries"
   ]
  },
  {
   "cell_type": "code",
   "execution_count": 1,
   "metadata": {},
   "outputs": [],
   "source": [
    "import pyspark.sql.functions as F\n",
    "import pyspark.sql.types as T\n",
    "from pyspark.sql import SparkSession, SQLContext\n",
    "\n",
    "import utils"
   ]
  },
  {
   "cell_type": "markdown",
   "metadata": {},
   "source": [
    "## Set constants"
   ]
  },
  {
   "cell_type": "code",
   "execution_count": 2,
   "metadata": {},
   "outputs": [],
   "source": [
    "BOOTSTRAP_SERVERS = '10.156.0.3:6667,10.156.0.4:6667,10.156.0.5:6667'\n",
    "GROUP_ID = 'dborisov_spark_task_2'\n",
    "SPARK_JARS_PACKAGES = 'org.apache.spark:spark-sql-kafka-0-10_2.11:2.3.0'\n",
    "SPARK_YARN_QUEUE = 'dborisov'\n",
    "TOPIC_NAME = 'mles.sopr'"
   ]
  },
  {
   "cell_type": "markdown",
   "metadata": {},
   "source": [
    "## Create SparkSession"
   ]
  },
  {
   "cell_type": "code",
   "execution_count": 3,
   "metadata": {},
   "outputs": [],
   "source": [
    "spark = SparkSession \\\n",
    "    .builder \\\n",
    "    .appName('dborisov_task_2') \\\n",
    "    .master('yarn') \\\n",
    "    .config('spark.yarn.queue', SPARK_YARN_QUEUE) \\\n",
    "    .config('spark.executor.cores', '3') \\\n",
    "    .config('spark.executor.memory', '6g') \\\n",
    "    .config('spark.jars.packages', SPARK_JARS_PACKAGES) \\\n",
    "    .enableHiveSupport() \\\n",
    "    .getOrCreate()"
   ]
  },
  {
   "cell_type": "markdown",
   "metadata": {},
   "source": [
    "## Load announcements from Kafka"
   ]
  },
  {
   "cell_type": "code",
   "execution_count": 4,
   "metadata": {},
   "outputs": [],
   "source": [
    "df = spark \\\n",
    "    .read \\\n",
    "    .format('kafka') \\\n",
    "    .option('kafka.bootstrap.servers', BOOTSTRAP_SERVERS) \\\n",
    "    .option('subscribe', TOPIC_NAME) \\\n",
    "    .option('group.id', GROUP_ID) \\\n",
    "    .option('startingOffsets', utils.get_starting_offsets(TOPIC_NAME)) \\\n",
    "    .load() \\\n",
    "    .cache()"
   ]
  },
  {
   "cell_type": "markdown",
   "metadata": {},
   "source": [
    "## Parse announcements"
   ]
  },
  {
   "cell_type": "code",
   "execution_count": 5,
   "metadata": {},
   "outputs": [],
   "source": [
    "kafka_schema = T.StructType([\n",
    "    T.StructField('timestamp', T.TimestampType()),\n",
    "    T.StructField('offer_id', T.LongType()),\n",
    "    T.StructField('user_id', T.StringType()),\n",
    "    T.StructField('event_type', T.StringType()),\n",
    "    T.StructField('page_type', T.StringType()),\n",
    "])"
   ]
  },
  {
   "cell_type": "code",
   "execution_count": 6,
   "metadata": {},
   "outputs": [],
   "source": [
    "ads_data = df.select(\n",
    "    F.from_json(F.col('value').cast('string'), kafka_schema) \\\n",
    "    .alias('json')\n",
    ") \\\n",
    ".select('json.*') \\\n",
    ".withColumn('ptn_dadd', F.col('timestamp').cast(T.DateType()))"
   ]
  },
  {
   "cell_type": "markdown",
   "metadata": {},
   "source": [
    "## Write announcements to Hive"
   ]
  },
  {
   "cell_type": "code",
   "execution_count": 7,
   "metadata": {},
   "outputs": [],
   "source": [
    "ads_data \\\n",
    "    .write \\\n",
    "    .format('orc') \\\n",
    "    .mode('append') \\\n",
    "    .partitionBy('ptn_dadd') \\\n",
    "    .saveAsTable('dborisov.mles_sopr')"
   ]
  },
  {
   "cell_type": "markdown",
   "metadata": {},
   "source": [
    "## Dump offsets"
   ]
  },
  {
   "cell_type": "code",
   "execution_count": 8,
   "metadata": {},
   "outputs": [],
   "source": [
    "partition_offsets_mapping = {\n",
    "    str(partition): offset + 1\n",
    "    for partition, offset in df.groupBy('partition').agg({'offset': 'max'}).collect()\n",
    "}\n",
    "\n",
    "utils.dump_offsets(TOPIC_NAME, partition_offsets_mapping)"
   ]
  }
 ],
 "metadata": {
  "kernelspec": {
   "display_name": "Python 3",
   "language": "python",
   "name": "python3"
  },
  "language_info": {
   "codemirror_mode": {
    "name": "ipython",
    "version": 3
   },
   "file_extension": ".py",
   "mimetype": "text/x-python",
   "name": "python",
   "nbconvert_exporter": "python",
   "pygments_lexer": "ipython3",
   "version": "3.6.8"
  }
 },
 "nbformat": 4,
 "nbformat_minor": 2
}
